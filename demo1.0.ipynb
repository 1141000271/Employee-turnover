{
 "cells": [
  {
   "cell_type": "code",
   "execution_count": 11,
   "metadata": {},
   "outputs": [],
   "source": [
    "import pandas as pd\n",
    "from sklearn.preprocessing import LabelEncoder,OneHotEncoder\n",
    "from scipy.stats import boxcox\n",
    "%matplotlib inline\n",
    "data = pd.read_csv('/home/huster/员工离职训练赛/pfm_train.csv')"
   ]
  },
  {
   "cell_type": "raw",
   "metadata": {},
   "source": [
    "                                                        \n",
    "（1）Age：员工年龄\n",
    "（2）Attrition：员工是否已经离职，1表示已经离职，2表示未离职，这是目标预测值；\n",
    "（3）BusinessTravel：商务差旅频率，Non-Travel表示不出差，Travel_Rarely表示不经常出差，Travel_Frequently表示经常出差；\n",
    "（4）Department：员工所在部门，Sales表示销售部，Research & Development表示研发部，Human Resources表示人力资源部；\n",
    "（5）DistanceFromHome：公司跟家庭住址的距离，从1到29，1表示最近，29表示最远；\n",
    "（6）Education：员工的教育程度，从1到5，5表示教育程度最高；\n",
    "（7）EducationField：员工所学习的专业领域，Life Sciences表示生命科学，Medical表示医疗，Marketing表示市场营销，Technical Degree表示技术学位，Human Resources表示人力资源，Other表示其他；(是否岗位对口 在后续构造特征的时候可以用上)\n",
    "（8）EmployeeNumber：员工号码；\n",
    "（9）EnvironmentSatisfaction：员工对于工作环境的满意程度，从1到4，1的满意程度最低，4的满意程度最高；（强特征）\n",
    "（10）Gender：员工性别，Male表示男性，Female表示女性；\n",
    "（11）JobInvolvement：员工工作投入度，从1到4，1为投入度最低，4为投入度最高；\n",
    "（12）JobLevel：职业级别，从1到5，1为最低级别，5为最高级别；\n",
    "（13）JobRole：工作角色：Sales Executive是销售主管，Research Scientist是科学研究员，Laboratory Technician实验室技术员，Manufacturing Director是制造总监，Healthcare Representative是医疗代表，Manager是经理，Sales Representative是销售代表，Research Director是研究总监，Human Resources是人力资源；\n",
    "（14）JobSatisfaction：工作满意度，从1到4，1代表满意程度最低，4代表满意程度最高；\n",
    "（15）MaritalStatus：员工婚姻状况，Single代表单身，Married代表已婚，Divorced代表离婚；\n",
    "（16）MonthlyIncome：员工月收入，范围在1009到19999之间；\n",
    "（17）NumCompaniesWorked：员工曾经工作过的公司数；\n",
    "（18）Over18：年龄是否超过18岁；\n",
    "（19）OverTime：是否加班，Yes表示加班，No表示不加班；\n",
    "（20）PercentSalaryHike：工资提高的百分比；\n",
    "（21）PerformanceRating：绩效评估；\n",
    "（22）RelationshipSatisfaction：关系满意度，从1到4，1表示满意度最低，4表示满意度最高；\n",
    "（23）StandardHours：标准工时；\n",
    "（24）StockOptionLevel：股票期权水平；\n",
    "（25）TotalWorkingYears：总工龄；\n",
    "（26）TrainingTimesLastYear：上一年的培训时长，从0到6，0表示没有培训，6表示培训时间最长；\n",
    "（27）WorkLifeBalance：工作与生活平衡程度，从1到4，1表示平衡程度最低，4表示平衡程度最高；\n",
    "（28）YearsAtCompany：在目前公司工作年数；\n",
    "（29）YearsInCurrentRole：在目前工作职责的工作年数\n",
    "（30）YearsSinceLastPromotion：距离上次升职时长\n",
    "（31）YearsWithCurrManager：跟目前的管理者共事年数；\n",
    "\n",
    "\n",
    "大致的梳理一个Pieline\n",
    "1. 数据清理（异常数据之类的,数据填充）\n",
    "2. 构建一个快速的模型 \n",
    "3. 尝试分箱、构造新特征、选取特征等问题 age DistanceFromHome MonthlyIncome\n",
    "\n",
    "key = EmployeeNumber\n",
    "Attrition  1表示已经离职，2表示未离职\n",
    "\n",
    "\n",
    "数据过多的数据写函数看值就好了，可视化效果不会那么好\n",
    "\n",
    "https://www.cnblogs.com/star-zhao/p/10186417.html 看看人家一个大致的思路，要有目的地去做特征工程"
   ]
  },
  {
   "cell_type": "code",
   "execution_count": 3,
   "metadata": {},
   "outputs": [],
   "source": [
    "# 先进行一个简单的编码\n",
    "# 取值的大小是否有含义  有的话要用LabelEncoder\n",
    "oh_list = ['BusinessTravel','Department','EducationField','Gender','JobRole','MaritalStatus','Over18','OverTime']\n",
    "\n",
    "one_hot = pd.get_dummies(data[oh_list])\n",
    "data = data.join(one_hot)\n",
    "data.drop(oh_list,axis = 1,inplace = True)\n",
    "\n",
    "\n",
    "# log 变换需要处理一下  \n",
    "# 还有一些特征的离散化需要处"
   ]
  },
  {
   "cell_type": "code",
   "execution_count": 4,
   "metadata": {},
   "outputs": [
    {
     "data": {
      "text/plain": [
       "<matplotlib.axes._subplots.AxesSubplot at 0x7fb1560efa58>"
      ]
     },
     "execution_count": 4,
     "metadata": {},
     "output_type": "execute_result"
    },
    {
     "data": {
      "image/png": "[encoded data removed]",
      "text/plain": [
       "<Figure size 432x288 with 1 Axes>"
      ]
     },
     "metadata": {
      "needs_background": "light"
     },
     "output_type": "display_data"
    }
   ],
   "source": [
    "#  data['Age'],_ = boxcox(data['Age'])\n",
    "# data['Age'] = pd.cut(data['Age'],[0,15,30,50,100],labels = ['yong','build','mid','old'])\n",
    "# data['Age'] = LabelEncoder().fit_transform(data['Age'])\n",
    "# data['Age'].plot(kind = 'hist')"
   ]
  },
  {
   "cell_type": "code",
   "execution_count": null,
   "metadata": {},
   "outputs": [],
   "source": []
  },
  {
   "cell_type": "code",
   "execution_count": 5,
   "metadata": {},
   "outputs": [
    {
     "data": {
      "text/plain": [
       "<matplotlib.axes._subplots.AxesSubplot at 0x7fb1560002e8>"
      ]
     },
     "execution_count": 5,
     "metadata": {},
     "output_type": "execute_result"
    },
    {
     "data": {
      "image/png": "[encoded data removed]",
      "text/plain": [
       "<Figure size 432x288 with 1 Axes>"
      ]
     },
     "metadata": {
      "needs_background": "light"
     },
     "output_type": "display_data"
    }
   ],
   "source": [
    "data['MonthlyIncome'] = pd.cut(data['MonthlyIncome'],3,labels = ['low','mid','high'])\n",
    "data['MonthlyIncome'] = LabelEncoder().fit_transform(data['MonthlyIncome'])\n",
    "data['MonthlyIncome'].plot(kind = 'hist')"
   ]
  },
  {
   "cell_type": "code",
   "execution_count": null,
   "metadata": {},
   "outputs": [],
   "source": []
  },
  {
   "cell_type": "markdown",
   "metadata": {},
   "source": [
    "# Feature Selection"
   ]
  },
  {
   "cell_type": "code",
   "execution_count": 6,
   "metadata": {},
   "outputs": [],
   "source": [
    "# https://github.com/WillKoehrsen/feature-selector/blob/master/Feature%20Selector%20Usage.ipynb"
   ]
  },
  {
   "cell_type": "markdown",
   "metadata": {},
   "source": [
    "# Model"
   ]
  },
  {
   "cell_type": "code",
   "execution_count": 7,
   "metadata": {},
   "outputs": [],
   "source": [
    "import lightgbm as lgb\n",
    "from sklearn.model_selection import train_test_split\n",
    "from sklearn.linear_model import LogisticRegression\n",
    "import numpy as np\n",
    "# metirc\n",
    "from sklearn import metrics\n",
    "#  用一用Lr  每用一个模型 要去摸清楚这个模型"
   ]
  },
  {
   "cell_type": "code",
   "execution_count": 8,
   "metadata": {},
   "outputs": [],
   "source": [
    "label = data['Attrition']\n",
    "data.drop(['Attrition'],axis = 1,inplace = True)"
   ]
  },
  {
   "cell_type": "code",
   "execution_count": 9,
   "metadata": {},
   "outputs": [],
   "source": [
    "# X_train, X_valid,Y_train,Y_valid = train_test_split(data,label,test_size = 0.2,stratify = label)\n",
    "# clf = LogisticRegression().fit(X_train,Y_train)\n",
    "# res = clf.predict(X_train)\n",
    "# metrics.roc_auc_score(np.asarray(res),np.asarray(Y_train))"
   ]
  },
  {
   "cell_type": "code",
   "execution_count": 10,
   "metadata": {},
   "outputs": [
    {
     "name": "stderr",
     "output_type": "stream",
     "text": [
      "/home/huster/.conda/envs/test-36/lib/python3.6/site-packages/sklearn/linear_model/logistic.py:432: FutureWarning: Default solver will be changed to 'lbfgs' in 0.22. Specify a solver to silence this warning.\n",
      "  FutureWarning)\n"
     ]
    },
    {
     "data": {
      "text/plain": [
       "0.8499138191272848"
      ]
     },
     "execution_count": 10,
     "metadata": {},
     "output_type": "execute_result"
    }
   ],
   "source": [
    "clf = LogisticRegression().fit(data,label)\n",
    "res = clf.predict(data)\n",
    "metrics.roc_auc_score(np.asarray(res),np.asarray(label))"
   ]
  },
  {
   "cell_type": "code",
   "execution_count": 60,
   "metadata": {},
   "outputs": [],
   "source": [
    "# 交叉验证的话是对超参数进行调整"
   ]
  },
  {
   "cell_type": "code",
   "execution_count": null,
   "metadata": {},
   "outputs": [],
   "source": []
  }
 ],
 "metadata": {
  "kernelspec": {
   "display_name": "Python [conda env:.conda-test-36] *",
   "language": "python",
   "name": "conda-env-.conda-test-36-py"
  }
 },
 "nbformat": 4,
 "nbformat_minor": 2
}
